{
 "cells": [
  {
   "cell_type": "markdown",
   "metadata": {},
   "source": [
    "## [作業重點]\n",
    "確保你了解隨機森林模型中每個超參數的意義，並觀察調整超參數對結果的影響"
   ]
  },
  {
   "cell_type": "markdown",
   "metadata": {},
   "source": [
    "## 作業\n",
    "\n",
    "1. 試著調整 RandomForestClassifier(...) 中的參數，並觀察是否會改變結果？  \n",
    "在此例(wine)中, critetion更動對結果預測影響不大, n_estimator及max_depth的增加都會改善預測的結果.\n",
    "2. 改用其他資料集 (boston, wine)，並與回歸模型與決策樹的結果進行比較  \n",
    "使用wine dataset, 隨機森林為執行效率及分類準度最高的模型.  為達到相同的準確度, Logistic regresssion需要做到3000次迭代才達到收斂; 而分類樹在相同的criterion及max_depth選擇下, 精準度不如隨機森林."
   ]
  },
  {
   "cell_type": "code",
   "execution_count": 1,
   "metadata": {},
   "outputs": [],
   "source": [
    "from sklearn import datasets\n",
    "from sklearn.linear_model import LogisticRegression\n",
    "from sklearn.ensemble import RandomForestClassifier\n",
    "from sklearn.tree import DecisionTreeClassifier\n",
    "from sklearn.model_selection import train_test_split\n",
    "import pandas as pd\n",
    "from sklearn.metrics import accuracy_score"
   ]
  },
  {
   "cell_type": "code",
   "execution_count": 2,
   "metadata": {},
   "outputs": [],
   "source": [
    "wine = datasets.load_wine()\n",
    "x_train, x_test, y_train, y_test = train_test_split(wine.data, wine.target, test_size=0.25, random_state=4)"
   ]
  },
  {
   "cell_type": "code",
   "execution_count": 3,
   "metadata": {},
   "outputs": [
    {
     "name": "stdout",
     "output_type": "stream",
     "text": [
      "Accuracy: 0.97778\n"
     ]
    },
    {
     "data": {
      "text/html": [
       "<div>\n",
       "<style scoped>\n",
       "    .dataframe tbody tr th:only-of-type {\n",
       "        vertical-align: middle;\n",
       "    }\n",
       "\n",
       "    .dataframe tbody tr th {\n",
       "        vertical-align: top;\n",
       "    }\n",
       "\n",
       "    .dataframe thead th {\n",
       "        text-align: right;\n",
       "    }\n",
       "</style>\n",
       "<table border=\"1\" class=\"dataframe\">\n",
       "  <thead>\n",
       "    <tr style=\"text-align: right;\">\n",
       "      <th></th>\n",
       "      <th>alcohol</th>\n",
       "      <th>malic_acid</th>\n",
       "      <th>ash</th>\n",
       "      <th>alcalinity_of_ash</th>\n",
       "      <th>magnesium</th>\n",
       "      <th>total_phenols</th>\n",
       "      <th>flavanoids</th>\n",
       "      <th>nonflavanoid_phenols</th>\n",
       "      <th>proanthocyanins</th>\n",
       "      <th>color_intensity</th>\n",
       "      <th>hue</th>\n",
       "      <th>od280/od315_of_diluted_wines</th>\n",
       "      <th>proline</th>\n",
       "    </tr>\n",
       "  </thead>\n",
       "  <tbody>\n",
       "    <tr>\n",
       "      <th>0</th>\n",
       "      <td>0.092984</td>\n",
       "      <td>0.038035</td>\n",
       "      <td>0.005906</td>\n",
       "      <td>0.016354</td>\n",
       "      <td>0.022811</td>\n",
       "      <td>0.103691</td>\n",
       "      <td>0.157471</td>\n",
       "      <td>0.009848</td>\n",
       "      <td>0.012274</td>\n",
       "      <td>0.146795</td>\n",
       "      <td>0.109969</td>\n",
       "      <td>0.1009</td>\n",
       "      <td>0.182961</td>\n",
       "    </tr>\n",
       "  </tbody>\n",
       "</table>\n",
       "</div>"
      ],
      "text/plain": [
       "    alcohol  malic_acid       ash  alcalinity_of_ash  magnesium  \\\n",
       "0  0.092984    0.038035  0.005906           0.016354   0.022811   \n",
       "\n",
       "   total_phenols  flavanoids  nonflavanoid_phenols  proanthocyanins  \\\n",
       "0       0.103691    0.157471              0.009848         0.012274   \n",
       "\n",
       "   color_intensity       hue  od280/od315_of_diluted_wines   proline  \n",
       "0         0.146795  0.109969                        0.1009  0.182961  "
      ]
     },
     "execution_count": 3,
     "metadata": {},
     "output_type": "execute_result"
    }
   ],
   "source": [
    "rfc = RandomForestClassifier(criterion='entropy',n_estimators=50, max_depth=3)\n",
    "rfc.fit(x_train, y_train)\n",
    "y_pred = rfc.predict(x_test)\n",
    "results = pd.DataFrame([rfc.feature_importances_],columns = wine.feature_names)\n",
    "print(\"Accuracy: %.5f\" % (accuracy_score(y_test,y_pred)))\n",
    "results"
   ]
  },
  {
   "cell_type": "code",
   "execution_count": 4,
   "metadata": {},
   "outputs": [
    {
     "name": "stdout",
     "output_type": "stream",
     "text": [
      "Accuracy: 0.97778\n"
     ]
    }
   ],
   "source": [
    "regr = LogisticRegression(solver='lbfgs',multi_class='auto',max_iter=3000)\n",
    "regr.fit(x_train, y_train)\n",
    "y_pred = regr.predict(x_test)\n",
    "print(\"Accuracy: %.5f\" % (accuracy_score(y_test,y_pred)))"
   ]
  },
  {
   "cell_type": "code",
   "execution_count": 5,
   "metadata": {},
   "outputs": [
    {
     "name": "stdout",
     "output_type": "stream",
     "text": [
      "Accuracy: 0.95556\n"
     ]
    },
    {
     "data": {
      "text/html": [
       "<div>\n",
       "<style scoped>\n",
       "    .dataframe tbody tr th:only-of-type {\n",
       "        vertical-align: middle;\n",
       "    }\n",
       "\n",
       "    .dataframe tbody tr th {\n",
       "        vertical-align: top;\n",
       "    }\n",
       "\n",
       "    .dataframe thead th {\n",
       "        text-align: right;\n",
       "    }\n",
       "</style>\n",
       "<table border=\"1\" class=\"dataframe\">\n",
       "  <thead>\n",
       "    <tr style=\"text-align: right;\">\n",
       "      <th></th>\n",
       "      <th>alcohol</th>\n",
       "      <th>malic_acid</th>\n",
       "      <th>ash</th>\n",
       "      <th>alcalinity_of_ash</th>\n",
       "      <th>magnesium</th>\n",
       "      <th>total_phenols</th>\n",
       "      <th>flavanoids</th>\n",
       "      <th>nonflavanoid_phenols</th>\n",
       "      <th>proanthocyanins</th>\n",
       "      <th>color_intensity</th>\n",
       "      <th>hue</th>\n",
       "      <th>od280/od315_of_diluted_wines</th>\n",
       "      <th>proline</th>\n",
       "    </tr>\n",
       "  </thead>\n",
       "  <tbody>\n",
       "    <tr>\n",
       "      <th>0</th>\n",
       "      <td>0.092984</td>\n",
       "      <td>0.038035</td>\n",
       "      <td>0.005906</td>\n",
       "      <td>0.016354</td>\n",
       "      <td>0.022811</td>\n",
       "      <td>0.103691</td>\n",
       "      <td>0.157471</td>\n",
       "      <td>0.009848</td>\n",
       "      <td>0.012274</td>\n",
       "      <td>0.146795</td>\n",
       "      <td>0.109969</td>\n",
       "      <td>0.1009</td>\n",
       "      <td>0.182961</td>\n",
       "    </tr>\n",
       "  </tbody>\n",
       "</table>\n",
       "</div>"
      ],
      "text/plain": [
       "    alcohol  malic_acid       ash  alcalinity_of_ash  magnesium  \\\n",
       "0  0.092984    0.038035  0.005906           0.016354   0.022811   \n",
       "\n",
       "   total_phenols  flavanoids  nonflavanoid_phenols  proanthocyanins  \\\n",
       "0       0.103691    0.157471              0.009848         0.012274   \n",
       "\n",
       "   color_intensity       hue  od280/od315_of_diluted_wines   proline  \n",
       "0         0.146795  0.109969                        0.1009  0.182961  "
      ]
     },
     "execution_count": 5,
     "metadata": {},
     "output_type": "execute_result"
    }
   ],
   "source": [
    "dtc = DecisionTreeClassifier(criterion='entropy',max_depth=3)\n",
    "dtc.fit(x_train, y_train)\n",
    "y_pred = dtc.predict(x_test)\n",
    "results = pd.DataFrame([rfc.feature_importances_],columns = wine.feature_names)\n",
    "print(\"Accuracy: %.5f\" % (accuracy_score(y_test,y_pred)))\n",
    "results"
   ]
  }
 ],
 "metadata": {
  "kernelspec": {
   "display_name": "Python 3",
   "language": "python",
   "name": "python3"
  },
  "language_info": {
   "codemirror_mode": {
    "name": "ipython",
    "version": 3
   },
   "file_extension": ".py",
   "mimetype": "text/x-python",
   "name": "python",
   "nbconvert_exporter": "python",
   "pygments_lexer": "ipython3",
   "version": "3.7.3"
  }
 },
 "nbformat": 4,
 "nbformat_minor": 2
}
