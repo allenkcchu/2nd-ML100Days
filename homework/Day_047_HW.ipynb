{
 "cells": [
  {
   "cell_type": "markdown",
   "metadata": {},
   "source": [
    "## [作業重點]\n",
    "了解如何使用 Sklearn 中的 hyper-parameter search 找出最佳的超參數"
   ]
  },
  {
   "cell_type": "markdown",
   "metadata": {},
   "source": [
    "### 作業\n",
    "請使用不同的資料集，並使用 hyper-parameter search 的方式，看能不能找出最佳的超參數組合"
   ]
  },
  {
   "cell_type": "code",
   "execution_count": 1,
   "metadata": {},
   "outputs": [],
   "source": [
    "from sklearn import datasets\n",
    "from sklearn.model_selection import train_test_split, GridSearchCV, RandomizedSearchCV\n",
    "from sklearn.ensemble import GradientBoostingClassifier, GradientBoostingRegressor\n",
    "from sklearn.metrics import r2_score, accuracy_score"
   ]
  },
  {
   "cell_type": "markdown",
   "metadata": {},
   "source": [
    "#### Boston dataset (regression problem)"
   ]
  },
  {
   "cell_type": "code",
   "execution_count": 2,
   "metadata": {},
   "outputs": [],
   "source": [
    "boston = datasets.load_boston()\n",
    "[x_train,x_test,y_train,y_test] = train_test_split(boston.data,boston.target,test_size=0.25,random_state=3)"
   ]
  },
  {
   "cell_type": "markdown",
   "metadata": {},
   "source": [
    "Check the results with defalut hyperparameters"
   ]
  },
  {
   "cell_type": "code",
   "execution_count": 3,
   "metadata": {},
   "outputs": [
    {
     "name": "stdout",
     "output_type": "stream",
     "text": [
      "R2 score of this regrssion problem is 0.898\n"
     ]
    }
   ],
   "source": [
    "rgs = GradientBoostingRegressor()\n",
    "rgs.fit(x_train,y_train)\n",
    "y_pred = rgs.predict(x_test)\n",
    "result = r2_score(y_test,y_pred)\n",
    "print('R2 score of this regrssion problem is %.3f' % (result))"
   ]
  },
  {
   "cell_type": "code",
   "execution_count": 4,
   "metadata": {},
   "outputs": [
    {
     "name": "stdout",
     "output_type": "stream",
     "text": [
      "Fitting 3 folds for each of 24 candidates, totalling 72 fits\n"
     ]
    },
    {
     "name": "stderr",
     "output_type": "stream",
     "text": [
      "[Parallel(n_jobs=-1)]: Done  42 tasks      | elapsed:    6.3s\n",
      "[Parallel(n_jobs=-1)]: Done  72 out of  72 | elapsed:    9.5s finished\n"
     ]
    },
    {
     "name": "stdout",
     "output_type": "stream",
     "text": [
      "Best Accuracy: -10.984 using {'max_depth': 3, 'n_estimators': 200}\n",
      "------Learning results after optimizing hyperparameters------\n",
      "R2 score of this regrssion problem is 0.899\n"
     ]
    }
   ],
   "source": [
    "n_estimators = [100,200,300]\n",
    "max_depth = range(3,11)\n",
    "param_grid = dict(n_estimators=n_estimators, max_depth=max_depth)\n",
    "grid_search = GridSearchCV(rgs, param_grid, \n",
    "                                 scoring='neg_mean_squared_error', n_jobs=-1, verbose=1)\n",
    "grid_result = grid_search.fit(x_train,y_train)\n",
    "print('Best Accuracy: %.3f using %s' % (grid_result.best_score_, grid_result.best_params_))\n",
    "rgsOptimized = GradientBoostingRegressor(n_estimators=grid_result.best_params_['n_estimators'],\n",
    "                                    max_depth=grid_result.best_params_['max_depth'])\n",
    "rgsOptimized.fit(x_train,y_train)\n",
    "y_pred = rgsOptimized.predict(x_test)\n",
    "result = r2_score(y_test,y_pred)\n",
    "print('------Learning results after optimizing hyperparameters------')\n",
    "print('R2 score of this regrssion problem is %.3f' % (result))"
   ]
  },
  {
   "cell_type": "markdown",
   "metadata": {},
   "source": [
    "#### Breast cancer dataset (classification problem)"
   ]
  },
  {
   "cell_type": "code",
   "execution_count": 5,
   "metadata": {},
   "outputs": [],
   "source": [
    "cancer = datasets.load_breast_cancer()\n",
    "[x_train,x_test,y_train,y_test] = train_test_split(cancer.data,cancer.target,test_size=0.25,random_state=3)"
   ]
  },
  {
   "cell_type": "code",
   "execution_count": 6,
   "metadata": {},
   "outputs": [
    {
     "name": "stdout",
     "output_type": "stream",
     "text": [
      "Accuracy score of this regrssion problem is 0.944\n"
     ]
    }
   ],
   "source": [
    "clf = GradientBoostingClassifier()\n",
    "clf.fit(x_train,y_train)\n",
    "y_pred = clf.predict(x_test)\n",
    "result = accuracy_score(y_test,y_pred)\n",
    "print('Accuracy score of this regrssion problem is %.3f' % (result))"
   ]
  },
  {
   "cell_type": "code",
   "execution_count": 7,
   "metadata": {},
   "outputs": [
    {
     "name": "stdout",
     "output_type": "stream",
     "text": [
      "Fitting 3 folds for each of 24 candidates, totalling 72 fits\n"
     ]
    },
    {
     "name": "stderr",
     "output_type": "stream",
     "text": [
      "[Parallel(n_jobs=-1)]: Done  42 tasks      | elapsed:    6.0s\n",
      "[Parallel(n_jobs=-1)]: Done  72 out of  72 | elapsed:    8.0s finished\n"
     ]
    },
    {
     "name": "stdout",
     "output_type": "stream",
     "text": [
      "Best Accuracy: -0.040 using {'max_depth': 3, 'n_estimators': 200}\n",
      "------Learning results after optimizing hyperparameters------\n",
      "Accuracy score of this regrssion problem is 0.951\n"
     ]
    }
   ],
   "source": [
    "n_estimators = [100,200,300]\n",
    "max_depth = range(3,11)\n",
    "param_grid = dict(n_estimators=n_estimators, max_depth=max_depth)\n",
    "grid_search = GridSearchCV(rgs, param_grid, \n",
    "                                 scoring='neg_mean_squared_error', n_jobs=-1, verbose=1)\n",
    "grid_result = grid_search.fit(x_train,y_train)\n",
    "print('Best Accuracy: %.3f using %s' % (grid_result.best_score_, grid_result.best_params_))\n",
    "clfOptimized = GradientBoostingClassifier(n_estimators=grid_result.best_params_['n_estimators'],\n",
    "                                    max_depth=grid_result.best_params_['max_depth'])\n",
    "clfOptimized.fit(x_train,y_train)\n",
    "y_pred = clfOptimized.predict(x_test)\n",
    "result = accuracy_score(y_test,y_pred)\n",
    "print('------Learning results after optimizing hyperparameters------')\n",
    "print('Accuracy score of this regrssion problem is %.3f' % (result))"
   ]
  }
 ],
 "metadata": {
  "kernelspec": {
   "display_name": "Python 3",
   "language": "python",
   "name": "python3"
  },
  "language_info": {
   "codemirror_mode": {
    "name": "ipython",
    "version": 3
   },
   "file_extension": ".py",
   "mimetype": "text/x-python",
   "name": "python",
   "nbconvert_exporter": "python",
   "pygments_lexer": "ipython3",
   "version": "3.6.4"
  }
 },
 "nbformat": 4,
 "nbformat_minor": 2
}
