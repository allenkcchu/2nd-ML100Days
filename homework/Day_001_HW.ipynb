{
 "cells": [
  {
   "cell_type": "markdown",
   "metadata": {},
   "source": [
    "## 作業1：請上 Kaggle, 在 Competitions 或 Dataset 中找一組競賽或資料並寫下：\n",
    "### 1. 你選的這組資料為何重要\n",
    "我選擇的資料為\"Heart Disease UCI\"，因為如急性心肌梗塞這樣的心臟疾病往往來的猝不及防，有足夠的心臟疾病病患數據，我們有機會找出急性心臟病及特定數據間的關聯，並進一步採取預防性治療。\n",
    "### 2. 資料從何而來 (tips: 譬如提供者是誰、以什麼方式蒐集)\n",
    "由瑞士、匈牙利及加州大學爾灣分校的醫生及研究人員提供。\n",
    "### 3. 蒐集而來的資料型態為何\n",
    "數字數據\n",
    "### 4. 這組資料想解決的問題如何評估\n",
    "在這組資料中的\"goal\"描述了目前病患的心臟疾病狀態，而透過資料組中其他的病患健康資訊、生活狀態，做不同權重的加總，得到的數值與goal做線性迴歸分析，取相關係數作為權重調整的反饋，直到相關係數達0.7以上時，我們大致上可以找出與心臟疾病相關性最高的原因，並且嘗試在往後發現同樣原因的病患做預防性的觀察及治療。"
   ]
  },
  {
   "cell_type": "markdown",
   "metadata": {},
   "source": [
    "## 作業2：想像你經營一個自由載客車隊，你希望能透過數據分析以提升業績，請你思考並描述你如何規劃整體的分析/解決方案：\n",
    "### 1. 核心問題為何 (tips：如何定義 「提升業績 & 你的假設」)\n",
    "業績可以直接使用單月總收費金額衡量，單趟收到的費用高則該月的業績就會提升，而影響單趟費用的直接可能原因為路程長度及搭乘時段，由於無法預期每位乘客的搭乘路程長度，所以需要先找出與路程長度相關的因素，在此假設為上車地點及上車時段。\n",
    "核心問題為：上車地點及時段與路程長度的關聯?\n",
    "### 2. 資料從何而來 (tips：哪些資料可能會對你想問的問題產生影響 & 資料如何蒐集)\n",
    "由司機紀錄每位乘客相關數據：\n",
    "1. 上車地點\n",
    "2. 下車地點\n",
    "3. 搭乘時段\n",
    "4. 收取費用\n",
    "或者開發專門叫車app，能夠自動記錄上述數據並回傳到資料庫。\n",
    "\n",
    "### 3. 蒐集而來的資料型態為何\n",
    "數字及文字，最終以csv形式輸出。\n",
    "### 4. 你要回答的問題，其如何評估 (tips：你的假設如何驗證)\n",
    "將上車地點依照不同的搭車時段作排序，如A地21:00、A地22:00、B地19:00、B地20:00、B地21:00等等，將同時段不同地點的資料與收取費用做迴歸分析，依據相關係數確認上車地點與路程長度的關聯程度。"
   ]
  },
  {
   "cell_type": "markdown",
   "metadata": {},
   "source": [
    "## 作業3: \n",
    "### 請點選下方檢視範例依照 Day_001_example_of_metrics.ipynb 完成 Mean Squared Error 的函式\n",
    "### $ MSE = \\frac{1}{n}\\sum_{i=1}^{n}{(Y_i - \\hat{Y}_i)^2} $"
   ]
  },
  {
   "cell_type": "code",
   "execution_count": 1,
   "metadata": {},
   "outputs": [],
   "source": [
    "def mean_square_error(y, yp):\n",
    "    \"\"\"\n",
    "    計算 MAE\n",
    "    Args:\n",
    "        - y: 實際值\n",
    "        - yp: 預測值\n",
    "    Return:\n",
    "        - mae: MAE\n",
    "    \"\"\"\n",
    "    mse = MSE = sum(abs(y - yp)**2) / len(y)\n",
    "    return mse"
   ]
  }
 ],
 "metadata": {
  "kernelspec": {
   "display_name": "Python 3",
   "language": "python",
   "name": "python3"
  },
  "language_info": {
   "codemirror_mode": {
    "name": "ipython",
    "version": 3
   },
   "file_extension": ".py",
   "mimetype": "text/x-python",
   "name": "python",
   "nbconvert_exporter": "python",
   "pygments_lexer": "ipython3",
   "version": "3.6.4"
  }
 },
 "nbformat": 4,
 "nbformat_minor": 2
}
